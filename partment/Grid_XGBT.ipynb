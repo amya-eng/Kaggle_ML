{
 "cells": [
  {
   "cell_type": "code",
   "id": "initial_id",
   "metadata": {
    "collapsed": true,
    "ExecuteTime": {
     "end_time": "2025-05-06T15:35:25.620019Z",
     "start_time": "2025-05-06T15:35:25.598883Z"
    }
   },
   "source": [
    "# [1]包导入              # 目前得分最佳！0.13386\n",
    "import pandas as pd\n",
    "import numpy as np\n",
    "import seaborn as sns\n",
    "import matplotlib.pyplot as plt\n",
    "from sklearn import preprocessing\n",
    "import missingno as msno\n",
    "import warnings\n",
    "from xgboost import XGBRegressor\n",
    "from sklearn.model_selection import train_test_split\n",
    "from sklearn.metrics import mean_squared_error\n",
    "from sklearn.model_selection import RandomizedSearchCV\n",
    "from xgboost import XGBRegressor\n",
    "from sklearn.metrics import make_scorer, mean_squared_error\n",
    "from scipy.stats import uniform, randint"
   ],
   "outputs": [],
   "execution_count": 8
  },
  {
   "metadata": {
    "ExecuteTime": {
     "end_time": "2025-05-06T15:35:25.636293Z",
     "start_time": "2025-05-06T15:35:25.624118Z"
    }
   },
   "cell_type": "code",
   "source": [
    "# [2]全局变量\n",
    "TARGET='SalePrice'\n",
    "oTARGET='SalePrice'\n",
    "# 设置支持中文\n",
    "plt.rcParams['font.sans-serif'] = ['SimHei']  # 黑体支持中文\n",
    "plt.rcParams['axes.unicode_minus'] = False    # 正常显示负号\n",
    "# 屏蔽此类警告\n",
    "import warnings\n",
    "warnings.filterwarnings(\"ignore\", message=\"Could not find the number of physical cores\")\n",
    "import os\n",
    "os.environ[\"LOKY_MAX_CPU_COUNT\"] = \"4\"  # 或其他你机器的逻辑核心数"
   ],
   "id": "f0527c5068243bb2",
   "outputs": [],
   "execution_count": 9
  },
  {
   "metadata": {
    "ExecuteTime": {
     "end_time": "2025-05-06T15:35:25.755747Z",
     "start_time": "2025-05-06T15:35:25.711831Z"
    }
   },
   "cell_type": "code",
   "source": [
    "# [3]数据集读取\n",
    "otrain_data = pd.read_csv('train.csv')\n",
    "otest_data = pd.read_csv('test.csv')\n",
    "train_data = otrain_data.copy()\n",
    "test_data = otest_data.copy()         # 原始数据备份\n",
    "train_data.head(5)"
   ],
   "id": "c7f7e304e14a2802",
   "outputs": [
    {
     "data": {
      "text/plain": [
       "   Id  MSSubClass MSZoning  LotFrontage  LotArea Street Alley LotShape  \\\n",
       "0   1          60       RL         65.0     8450   Pave   NaN      Reg   \n",
       "1   2          20       RL         80.0     9600   Pave   NaN      Reg   \n",
       "2   3          60       RL         68.0    11250   Pave   NaN      IR1   \n",
       "3   4          70       RL         60.0     9550   Pave   NaN      IR1   \n",
       "4   5          60       RL         84.0    14260   Pave   NaN      IR1   \n",
       "\n",
       "  LandContour Utilities  ... PoolArea PoolQC Fence MiscFeature MiscVal MoSold  \\\n",
       "0         Lvl    AllPub  ...        0    NaN   NaN         NaN       0      2   \n",
       "1         Lvl    AllPub  ...        0    NaN   NaN         NaN       0      5   \n",
       "2         Lvl    AllPub  ...        0    NaN   NaN         NaN       0      9   \n",
       "3         Lvl    AllPub  ...        0    NaN   NaN         NaN       0      2   \n",
       "4         Lvl    AllPub  ...        0    NaN   NaN         NaN       0     12   \n",
       "\n",
       "  YrSold  SaleType  SaleCondition  SalePrice  \n",
       "0   2008        WD         Normal     208500  \n",
       "1   2007        WD         Normal     181500  \n",
       "2   2008        WD         Normal     223500  \n",
       "3   2006        WD        Abnorml     140000  \n",
       "4   2008        WD         Normal     250000  \n",
       "\n",
       "[5 rows x 81 columns]"
      ],
      "text/html": [
       "<div>\n",
       "<style scoped>\n",
       "    .dataframe tbody tr th:only-of-type {\n",
       "        vertical-align: middle;\n",
       "    }\n",
       "\n",
       "    .dataframe tbody tr th {\n",
       "        vertical-align: top;\n",
       "    }\n",
       "\n",
       "    .dataframe thead th {\n",
       "        text-align: right;\n",
       "    }\n",
       "</style>\n",
       "<table border=\"1\" class=\"dataframe\">\n",
       "  <thead>\n",
       "    <tr style=\"text-align: right;\">\n",
       "      <th></th>\n",
       "      <th>Id</th>\n",
       "      <th>MSSubClass</th>\n",
       "      <th>MSZoning</th>\n",
       "      <th>LotFrontage</th>\n",
       "      <th>LotArea</th>\n",
       "      <th>Street</th>\n",
       "      <th>Alley</th>\n",
       "      <th>LotShape</th>\n",
       "      <th>LandContour</th>\n",
       "      <th>Utilities</th>\n",
       "      <th>...</th>\n",
       "      <th>PoolArea</th>\n",
       "      <th>PoolQC</th>\n",
       "      <th>Fence</th>\n",
       "      <th>MiscFeature</th>\n",
       "      <th>MiscVal</th>\n",
       "      <th>MoSold</th>\n",
       "      <th>YrSold</th>\n",
       "      <th>SaleType</th>\n",
       "      <th>SaleCondition</th>\n",
       "      <th>SalePrice</th>\n",
       "    </tr>\n",
       "  </thead>\n",
       "  <tbody>\n",
       "    <tr>\n",
       "      <th>0</th>\n",
       "      <td>1</td>\n",
       "      <td>60</td>\n",
       "      <td>RL</td>\n",
       "      <td>65.0</td>\n",
       "      <td>8450</td>\n",
       "      <td>Pave</td>\n",
       "      <td>NaN</td>\n",
       "      <td>Reg</td>\n",
       "      <td>Lvl</td>\n",
       "      <td>AllPub</td>\n",
       "      <td>...</td>\n",
       "      <td>0</td>\n",
       "      <td>NaN</td>\n",
       "      <td>NaN</td>\n",
       "      <td>NaN</td>\n",
       "      <td>0</td>\n",
       "      <td>2</td>\n",
       "      <td>2008</td>\n",
       "      <td>WD</td>\n",
       "      <td>Normal</td>\n",
       "      <td>208500</td>\n",
       "    </tr>\n",
       "    <tr>\n",
       "      <th>1</th>\n",
       "      <td>2</td>\n",
       "      <td>20</td>\n",
       "      <td>RL</td>\n",
       "      <td>80.0</td>\n",
       "      <td>9600</td>\n",
       "      <td>Pave</td>\n",
       "      <td>NaN</td>\n",
       "      <td>Reg</td>\n",
       "      <td>Lvl</td>\n",
       "      <td>AllPub</td>\n",
       "      <td>...</td>\n",
       "      <td>0</td>\n",
       "      <td>NaN</td>\n",
       "      <td>NaN</td>\n",
       "      <td>NaN</td>\n",
       "      <td>0</td>\n",
       "      <td>5</td>\n",
       "      <td>2007</td>\n",
       "      <td>WD</td>\n",
       "      <td>Normal</td>\n",
       "      <td>181500</td>\n",
       "    </tr>\n",
       "    <tr>\n",
       "      <th>2</th>\n",
       "      <td>3</td>\n",
       "      <td>60</td>\n",
       "      <td>RL</td>\n",
       "      <td>68.0</td>\n",
       "      <td>11250</td>\n",
       "      <td>Pave</td>\n",
       "      <td>NaN</td>\n",
       "      <td>IR1</td>\n",
       "      <td>Lvl</td>\n",
       "      <td>AllPub</td>\n",
       "      <td>...</td>\n",
       "      <td>0</td>\n",
       "      <td>NaN</td>\n",
       "      <td>NaN</td>\n",
       "      <td>NaN</td>\n",
       "      <td>0</td>\n",
       "      <td>9</td>\n",
       "      <td>2008</td>\n",
       "      <td>WD</td>\n",
       "      <td>Normal</td>\n",
       "      <td>223500</td>\n",
       "    </tr>\n",
       "    <tr>\n",
       "      <th>3</th>\n",
       "      <td>4</td>\n",
       "      <td>70</td>\n",
       "      <td>RL</td>\n",
       "      <td>60.0</td>\n",
       "      <td>9550</td>\n",
       "      <td>Pave</td>\n",
       "      <td>NaN</td>\n",
       "      <td>IR1</td>\n",
       "      <td>Lvl</td>\n",
       "      <td>AllPub</td>\n",
       "      <td>...</td>\n",
       "      <td>0</td>\n",
       "      <td>NaN</td>\n",
       "      <td>NaN</td>\n",
       "      <td>NaN</td>\n",
       "      <td>0</td>\n",
       "      <td>2</td>\n",
       "      <td>2006</td>\n",
       "      <td>WD</td>\n",
       "      <td>Abnorml</td>\n",
       "      <td>140000</td>\n",
       "    </tr>\n",
       "    <tr>\n",
       "      <th>4</th>\n",
       "      <td>5</td>\n",
       "      <td>60</td>\n",
       "      <td>RL</td>\n",
       "      <td>84.0</td>\n",
       "      <td>14260</td>\n",
       "      <td>Pave</td>\n",
       "      <td>NaN</td>\n",
       "      <td>IR1</td>\n",
       "      <td>Lvl</td>\n",
       "      <td>AllPub</td>\n",
       "      <td>...</td>\n",
       "      <td>0</td>\n",
       "      <td>NaN</td>\n",
       "      <td>NaN</td>\n",
       "      <td>NaN</td>\n",
       "      <td>0</td>\n",
       "      <td>12</td>\n",
       "      <td>2008</td>\n",
       "      <td>WD</td>\n",
       "      <td>Normal</td>\n",
       "      <td>250000</td>\n",
       "    </tr>\n",
       "  </tbody>\n",
       "</table>\n",
       "<p>5 rows × 81 columns</p>\n",
       "</div>"
      ]
     },
     "execution_count": 10,
     "metadata": {},
     "output_type": "execute_result"
    }
   ],
   "execution_count": 10
  },
  {
   "metadata": {
    "ExecuteTime": {
     "end_time": "2025-05-06T15:35:25.863486Z",
     "start_time": "2025-05-06T15:35:25.851415Z"
    }
   },
   "cell_type": "code",
   "source": [
    "# [5]筛选训练集和测试集都存在的列\n",
    "cols = [TARGET]         # target列一定保留\n",
    "for c in train_data.columns:\n",
    "    if c in test_data.columns:\n",
    "        cols.append(c)\n",
    "train_data = train_data[cols]\n",
    "test_data = test_data[cols[1:]]        # test_data不包含结果列"
   ],
   "id": "ae3616a2b2e395bd",
   "outputs": [],
   "execution_count": 11
  },
  {
   "metadata": {
    "ExecuteTime": {
     "end_time": "2025-05-06T15:35:25.934036Z",
     "start_time": "2025-05-06T15:35:25.920002Z"
    }
   },
   "cell_type": "code",
   "source": [
    "X_train = train_data.drop(TARGET, axis=1)\n",
    "y_train = train_data[TARGET]\n",
    "X_test = test_data\n",
    "\n",
    "X_train_split, X_valid, y_train_split, y_valid = train_test_split(\n",
    "    X_train, y_train, test_size=0.2, random_state=42\n",
    ")"
   ],
   "id": "6a5bd36a01564498",
   "outputs": [],
   "execution_count": 12
  },
  {
   "metadata": {
    "ExecuteTime": {
     "end_time": "2025-05-06T15:35:26.061650Z",
     "start_time": "2025-05-06T15:35:26.000220Z"
    }
   },
   "cell_type": "code",
   "source": [
    "# 1. 自动识别所有非数值列（object 或 category 类型）\n",
    "cat_cols = X_train_split.select_dtypes(include=['object', 'category']).columns.tolist()\n",
    "\n",
    "# 2. 对训练集、验证集、测试集进行独热编码\n",
    "X_train_encoded = pd.get_dummies(X_train_split, columns=cat_cols, drop_first=True)\n",
    "X_valid_encoded = pd.get_dummies(X_valid, columns=cat_cols, drop_first=True)\n",
    "X_test_encoded = pd.get_dummies(X_test, columns=cat_cols, drop_first=True)\n",
    "\n",
    "# 3. 对齐验证集和测试集的列，使其与训练集完全一致\n",
    "X_valid_encoded = X_valid_encoded.reindex(columns=X_train_encoded.columns, fill_value=0)\n",
    "X_test_encoded = X_test_encoded.reindex(columns=X_train_encoded.columns, fill_value=0)\n"
   ],
   "id": "8a3bea3850800ff4",
   "outputs": [],
   "execution_count": 13
  },
  {
   "metadata": {
    "ExecuteTime": {
     "end_time": "2025-05-06T15:37:16.128791Z",
     "start_time": "2025-05-06T15:35:26.105715Z"
    }
   },
   "cell_type": "code",
   "source": [
    "\n",
    "# 自定义评估函数：log RMSE（与前面一致）\n",
    "def rmse_log_score(y_true, y_pred):\n",
    "    return np.sqrt(mean_squared_error(np.log1p(y_true), np.log1p(y_pred)))\n",
    "\n",
    "# 包装为 scorer，越小越好，需加 greater_is_better=False\n",
    "rmse_scorer = make_scorer(rmse_log_score, greater_is_better=False)\n",
    "\n",
    "# 参数搜索空间\n",
    "param_dist = {\n",
    "    'n_estimators': randint(100, 2000),\n",
    "    'learning_rate': uniform(0.01, 0.3),\n",
    "    'max_depth': randint(2, 10),\n",
    "    'min_child_weight': uniform(1, 6),\n",
    "    'gamma': uniform(0, 0.5),\n",
    "    'subsample': uniform(0.3, 0.7),\n",
    "    'colsample_bytree': uniform(0.3, 0.7),\n",
    "    'reg_alpha': uniform(0, 1),\n",
    "    'reg_lambda': uniform(0, 1),\n",
    "}\n",
    "\n",
    "# 初始化模型\n",
    "xgb_model = XGBRegressor(tree_method='hist', random_state=42)\n",
    "\n",
    "# 随机搜索（可调 n_iter 次数）\n",
    "random_search = RandomizedSearchCV(\n",
    "    estimator=xgb_model,\n",
    "    param_distributions=param_dist,\n",
    "    n_iter=50,\n",
    "    scoring=rmse_scorer,\n",
    "    cv=3,\n",
    "    verbose=1,\n",
    "    random_state=42,\n",
    "    n_jobs=-1\n",
    ")\n",
    "\n",
    "# 执行搜索\n",
    "random_search.fit(X_train_encoded, y_train_split)\n",
    "\n",
    "# 输出最优参数\n",
    "print(\"Best Parameters:\", random_search.best_params_)\n",
    "\n",
    "# 使用最佳模型进行预测\n",
    "best_model = random_search.best_estimator_\n",
    "y_pred = best_model.predict(X_valid_encoded)\n",
    "log_rmse = np.sqrt(mean_squared_error(np.log1p(y_valid), np.log1p(y_pred)))\n",
    "print(f\"验证集上的最佳对数 RMSE：{log_rmse:.4f}\")\n",
    "\n",
    "# 最终预测（可选）\n",
    "final_preds = best_model.predict(X_test_encoded)\n",
    "submission = pd.DataFrame({\n",
    "    'Id': test_data['Id'],\n",
    "    'SalePrice': final_preds\n",
    "})\n",
    "submission.to_csv('submission_tuned.csv', index=False)\n"
   ],
   "id": "d4dc5f4dd6d4d73c",
   "outputs": [
    {
     "name": "stdout",
     "output_type": "stream",
     "text": [
      "Fitting 3 folds for each of 50 candidates, totalling 150 fits\n"
     ]
    },
    {
     "name": "stderr",
     "output_type": "stream",
     "text": [
      "[Parallel(n_jobs=-1)]: Using backend LokyBackend with 4 concurrent workers.\n",
      "[Parallel(n_jobs=-1)]: Done  42 tasks      | elapsed:   31.1s\n",
      "[Parallel(n_jobs=-1)]: Done 150 out of 150 | elapsed:  1.8min finished\n"
     ]
    },
    {
     "name": "stdout",
     "output_type": "stream",
     "text": [
      "Best Parameters: {'colsample_bytree': 0.36194475143634364, 'gamma': 0.0979914312095726, 'learning_rate': 0.02356818667316142, 'max_depth': 9, 'min_child_weight': 6.067203092068908, 'n_estimators': 1872, 'reg_alpha': 0.2713490317738959, 'reg_lambda': 0.8287375091519293, 'subsample': 0.5497273286855124}\n",
      "验证集上的最佳对数 RMSE：0.1429\n"
     ]
    }
   ],
   "execution_count": 14
  },
  {
   "metadata": {
    "ExecuteTime": {
     "end_time": "2025-05-06T15:37:16.284964Z",
     "start_time": "2025-05-06T15:37:16.272932Z"
    }
   },
   "cell_type": "code",
   "source": "",
   "id": "6b516e3b1aeeec22",
   "outputs": [],
   "execution_count": null
  }
 ],
 "metadata": {
  "kernelspec": {
   "display_name": "Python 3",
   "language": "python",
   "name": "python3"
  },
  "language_info": {
   "codemirror_mode": {
    "name": "ipython",
    "version": 2
   },
   "file_extension": ".py",
   "mimetype": "text/x-python",
   "name": "python",
   "nbconvert_exporter": "python",
   "pygments_lexer": "ipython2",
   "version": "2.7.6"
  }
 },
 "nbformat": 4,
 "nbformat_minor": 5
}
